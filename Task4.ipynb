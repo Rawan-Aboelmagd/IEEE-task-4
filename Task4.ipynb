{
  "cells": [
    {
      "cell_type": "markdown",
      "id": "01b6368a",
      "metadata": {
        "id": "01b6368a"
      },
      "source": [
        "<h1 align='center'><font color='red'> Task_4\n"
      ]
    },
    {
      "cell_type": "markdown",
      "id": "ce58d89a",
      "metadata": {
        "id": "ce58d89a"
      },
      "source": [
        "1. [NumPy](#NumPy)\n",
        "1. [oop](#oop)\n",
        "3. [ProblemSolving](#ProblemSolving)\n"
      ]
    },
    {
      "cell_type": "markdown",
      "id": "b4e00004",
      "metadata": {
        "id": "b4e00004"
      },
      "source": [
        "<a id='NumPy'></a>\n",
        "<h1><font color='red'> NumPy"
      ]
    },
    {
      "cell_type": "markdown",
      "id": "47431e1d",
      "metadata": {
        "id": "47431e1d"
      },
      "source": [
        "## 1.What does NumPy stand for?"
      ]
    },
    {
      "cell_type": "markdown",
      "id": "d41a0dbf",
      "metadata": {
        "id": "d41a0dbf"
      },
      "source": [
        "\n",
        "#### A) Number Python\n",
        "#### B)Numerator Python\n",
        "#### C) Numerical Python\n",
        "#### D)There is no full form, it is a stand-alone word  \n"
      ]
    },
    {
      "cell_type": "code",
      "source": [
        "A = False #@param {type:\"boolean\"}\n",
        "B = False #@param {type:\"boolean\"}\n",
        "C = True #@param {type:\"boolean\"}\n",
        "D = False #@param {type:\"boolean\"}\n"
      ],
      "metadata": {
        "id": "zMrpHpmJ-_Il"
      },
      "id": "zMrpHpmJ-_Il",
      "execution_count": null,
      "outputs": []
    },
    {
      "cell_type": "markdown",
      "id": "25547c4f",
      "metadata": {
        "id": "25547c4f"
      },
      "source": [
        "## 2.What does the size attribute in numpy use to find?"
      ]
    },
    {
      "cell_type": "markdown",
      "id": "5d3bce4d",
      "metadata": {
        "id": "5d3bce4d"
      },
      "source": [
        "\n",
        "#### A) number of items\n",
        "#### B)shape\n",
        "#### C) date & time\n",
        "#### D)unique items\n",
        "    "
      ]
    },
    {
      "cell_type": "code",
      "source": [
        "A = True #@param {type:\"boolean\"}\n",
        "B = False #@param {type:\"boolean\"}\n",
        "C = False #@param {type:\"boolean\"}\n",
        "D = False #@param {type:\"boolean\"}"
      ],
      "metadata": {
        "id": "_zRmM_HQ_YyR"
      },
      "id": "_zRmM_HQ_YyR",
      "execution_count": null,
      "outputs": []
    },
    {
      "cell_type": "markdown",
      "id": "3280ba3a",
      "metadata": {
        "id": "3280ba3a"
      },
      "source": [
        "### 3.What is the purpose of zero() function?"
      ]
    },
    {
      "cell_type": "markdown",
      "id": "b52b7109",
      "metadata": {
        "id": "b52b7109"
      },
      "source": [
        "#### A) To create a matrix with the first row and first column as 0\n",
        "#### B) To create a matrix with diagonal elements as 0\n",
        "#### C) To create a matrix with all elements as 0\n",
        "#### D) To return an integer number 0\n"
      ]
    },
    {
      "cell_type": "code",
      "source": [
        "A = False #@param {type:\"boolean\"}\n",
        "B = False #@param {type:\"boolean\"}\n",
        "C = True #@param {type:\"boolean\"}\n",
        "D = False #@param {type:\"boolean\"}"
      ],
      "metadata": {
        "id": "-74WzwGj__cZ"
      },
      "id": "-74WzwGj__cZ",
      "execution_count": null,
      "outputs": []
    },
    {
      "cell_type": "markdown",
      "id": "3618682c",
      "metadata": {
        "id": "3618682c"
      },
      "source": [
        "<h1><font color='red'> Answer these question"
      ]
    },
    {
      "cell_type": "markdown",
      "id": "e69e4a90",
      "metadata": {
        "id": "e69e4a90"
      },
      "source": [
        "### 4- create 1D, 2D and 3D arrays in NumPy? then returns the type of the elements stored in the NumPy array."
      ]
    },
    {
      "cell_type": "code",
      "execution_count": 17,
      "id": "9c191a1e",
      "metadata": {
        "id": "9c191a1e",
        "outputId": "cb9e7156-45a6-4916-d386-73381ca288a7",
        "colab": {
          "base_uri": "https://localhost:8080/"
        }
      },
      "outputs": [
        {
          "output_type": "stream",
          "name": "stdout",
          "text": [
            "int64\n"
          ]
        }
      ],
      "source": [
        "# One-Dimensional array\n",
        "import numpy as np\n",
        "d = np.arange(1,9)\n",
        "print(d.dtype)\n",
        "\n",
        "\n",
        "\n"
      ]
    },
    {
      "cell_type": "code",
      "execution_count": 18,
      "id": "94c39d76",
      "metadata": {
        "id": "94c39d76",
        "outputId": "35567843-536e-4171-f23c-c500c92c2d56",
        "colab": {
          "base_uri": "https://localhost:8080/"
        }
      },
      "outputs": [
        {
          "output_type": "stream",
          "name": "stdout",
          "text": [
            "float64\n"
          ]
        }
      ],
      "source": [
        "# Two-Dimensional array\n",
        "\n",
        "import numpy as np\n",
        "d = np.zeros((2,3))\n",
        "print(d.dtype)\n",
        "\n",
        "\n",
        "\n"
      ]
    },
    {
      "cell_type": "code",
      "execution_count": 49,
      "id": "be5ef3e2",
      "metadata": {
        "id": "be5ef3e2",
        "outputId": "6dfd642b-1b9a-49b6-ed7d-5a895890ffd5",
        "colab": {
          "base_uri": "https://localhost:8080/"
        }
      },
      "outputs": [
        {
          "output_type": "stream",
          "name": "stdout",
          "text": [
            "int64\n"
          ]
        }
      ],
      "source": [
        "# Three-Dimensional array\n",
        "\n",
        "import numpy as np\n",
        "\n",
        "ar_3d = np.array([[[1 , 2 , 3]]])\n",
        "print(ar_3d.dtype)\n",
        "\n",
        "\n",
        "\n",
        "\n"
      ]
    },
    {
      "cell_type": "markdown",
      "id": "a7846d9f",
      "metadata": {
        "id": "a7846d9f"
      },
      "source": [
        "### 5-Reverse this array [[[1,2,3,4],[4,5,6,7],[7,8,9,10]]] in two ways......"
      ]
    },
    {
      "cell_type": "code",
      "execution_count": 50,
      "id": "e98b8f1a",
      "metadata": {
        "id": "e98b8f1a",
        "outputId": "d179d2ee-647f-43a5-cb21-4d26cb0d6770",
        "colab": {
          "base_uri": "https://localhost:8080/"
        }
      },
      "outputs": [
        {
          "output_type": "stream",
          "name": "stdout",
          "text": [
            "[[[10  9  8  7]\n",
            "  [ 7  6  5  4]\n",
            "  [ 4  3  2  1]]]\n"
          ]
        }
      ],
      "source": [
        "# Method one\n",
        "import numpy as np\n",
        "\n",
        "array = np.array([[[1,2,3,4],[4,5,6,7],[7,8,9,10]]])\n",
        "fliped = np.flip(array)\n",
        "print(fliped)\n",
        "\n",
        "\n",
        "\n"
      ]
    },
    {
      "cell_type": "code",
      "execution_count": 39,
      "id": "48627ad8",
      "metadata": {
        "id": "48627ad8",
        "outputId": "70597548-318d-4c0c-c172-e00d632f50ee",
        "colab": {
          "base_uri": "https://localhost:8080/"
        }
      },
      "outputs": [
        {
          "output_type": "stream",
          "name": "stdout",
          "text": [
            "[[ 7  8  9 10]\n",
            " [ 4  5  6  7]\n",
            " [ 1  2  3  4]]\n"
          ]
        }
      ],
      "source": [
        "# Method two\n",
        "#>**hint**: use flipud function\n",
        "\n",
        "import numpy as np\n",
        "\n",
        "array = np.array([[[1,2,3,4],[4,5,6,7],[7,8,9,10]]])\n",
        "array2 = array.reshape((3,4))\n",
        "fliped2 = np.flipud(array2)\n",
        "print(fliped2)\n",
        "\n",
        "\n",
        "\n"
      ]
    },
    {
      "cell_type": "markdown",
      "id": "e85f1615",
      "metadata": {
        "id": "e85f1615"
      },
      "source": [
        "## 6-Make this array as an array one dimensional"
      ]
    },
    {
      "cell_type": "code",
      "execution_count": 52,
      "id": "ebb77e8a",
      "metadata": {
        "id": "ebb77e8a",
        "outputId": "ccc06364-9fee-48e7-86c9-97eaaca018b3",
        "colab": {
          "base_uri": "https://localhost:8080/"
        }
      },
      "outputs": [
        {
          "output_type": "stream",
          "name": "stdout",
          "text": [
            "[ 1  2  3  4  4  5  6  7  7  8  9 10]\n"
          ]
        }
      ],
      "source": [
        "import numpy as np\n",
        "array1 = np.array([[[1,2,3,4],[4,5,6,7],[7,8,9,10]]])\n",
        "edit = array1.flatten()\n",
        "print(edit)"
      ]
    },
    {
      "cell_type": "code",
      "execution_count": null,
      "id": "72487dda",
      "metadata": {
        "id": "72487dda"
      },
      "outputs": [],
      "source": []
    },
    {
      "cell_type": "markdown",
      "id": "bc6fd424",
      "metadata": {
        "id": "bc6fd424"
      },
      "source": [
        "## 7- Create a 3X2 integer array and Prints its attributes¶\n",
        "* Note: The element must be a type of unsigned int16. And print the following Attributes:\n",
        "\n",
        "- The shape of an array.\n",
        "- Array dimensions.\n",
        "- The Length of each element of the array in bytes"
      ]
    },
    {
      "cell_type": "code",
      "execution_count": 45,
      "id": "04f6f820",
      "metadata": {
        "id": "04f6f820",
        "outputId": "78f1f4d0-da82-4fac-cd86-ecb4f9be4712",
        "colab": {
          "base_uri": "https://localhost:8080/"
        }
      },
      "outputs": [
        {
          "output_type": "stream",
          "name": "stdout",
          "text": [
            "(3, 2)\n",
            "2\n",
            "2\n"
          ]
        }
      ],
      "source": [
        "import numpy as np\n",
        "array = np.zeros((3,2) , dtype = np.int16)\n",
        "print(array.shape)\n",
        "print(array.ndim)\n",
        "print(array.itemsize)\n",
        "\n"
      ]
    },
    {
      "cell_type": "markdown",
      "id": "c80d388f",
      "metadata": {
        "id": "c80d388f"
      },
      "source": [
        "### 8- Return array of odd rows and even columns from below numpy array\n",
        "\n",
        "* # Ordering the values of each Key and the print the key witht highest value.\n",
        "\n",
        "\n",
        "> **`sampleArray = numpy.array([[3 ,6, 9, 12], [15 ,18, 21, 24],\n",
        "[27 ,30, 33, 36], [39 ,42, 45, 48], [51 ,54, 57, 60]])`**\n",
        "\n",
        "\n",
        "# The output should be:\n",
        "* `expexted output :\n",
        "[[ 3  6  9 12]\n",
        " [15 18 21 24]\n",
        " [27 30 33 36]\n",
        " [39 42 45 48]\n",
        " [51 54 57 60]]`\n",
        "\n",
        "* `Printing array of odd rows and even columns\n",
        "[[ 6 12]\n",
        " [30 36]\n",
        " [54 60]]`*"
      ]
    },
    {
      "cell_type": "code",
      "source": [
        "import numpy as np\n",
        "sampleArray = np.array([[3 ,6, 9, 12], [15 ,18, 21, 24], [27 ,30, 33, 36], [39 ,42, 45, 48], [51 ,54, 57, 60]])\n",
        "ordered = np.sort(sampleArray)\n",
        "print(ordered)\n",
        "request = ordered[0:5:2 , 1:4:2]\n",
        "print(request)"
      ],
      "metadata": {
        "id": "lT-8p9Ml4NT6",
        "outputId": "e7d18a43-966e-4d64-9e5b-6aefaf3a26de",
        "colab": {
          "base_uri": "https://localhost:8080/"
        }
      },
      "id": "lT-8p9Ml4NT6",
      "execution_count": 55,
      "outputs": [
        {
          "output_type": "stream",
          "name": "stdout",
          "text": [
            "[[ 3  6  9 12]\n",
            " [15 18 21 24]\n",
            " [27 30 33 36]\n",
            " [39 42 45 48]\n",
            " [51 54 57 60]]\n",
            "[[ 6 12]\n",
            " [30 36]\n",
            " [54 60]]\n"
          ]
        }
      ]
    },
    {
      "cell_type": "markdown",
      "id": "eae73db7",
      "metadata": {
        "id": "eae73db7"
      },
      "source": [
        "## 9-How is np.mean() different from np.average() in NumPy?"
      ]
    },
    {
      "cell_type": "code",
      "execution_count": null,
      "id": "8u9uBik3OHNt",
      "metadata": {
        "id": "8u9uBik3OHNt"
      },
      "outputs": [],
      "source": [
        "np.average considers the weight of each point in the data while calculating the mean. It has the weight parameter, so it measures the mean with higher accuracy"
      ]
    },
    {
      "cell_type": "markdown",
      "id": "81a2ddc8",
      "metadata": {
        "id": "81a2ddc8"
      },
      "source": [
        "## 10-Count the frequency of a given positive value appearing in this NumPy array\n",
        "## [1, 2, 1, 3, 5, 0, 0, 0, 2, 3] ?"
      ]
    },
    {
      "cell_type": "code",
      "execution_count": 57,
      "id": "de7ee71c",
      "metadata": {
        "id": "de7ee71c",
        "outputId": "0c17f30b-b62d-438c-bbc4-9122b39e9c76",
        "colab": {
          "base_uri": "https://localhost:8080/"
        }
      },
      "outputs": [
        {
          "output_type": "stream",
          "name": "stdout",
          "text": [
            "[0 1 2 3 5]\n",
            "[3 2 2 2 0 1]\n"
          ]
        }
      ],
      "source": [
        "import numpy as np\n",
        "array = np.array([1, 2, 1, 3, 5, 0, 0, 0, 2, 3])\n",
        "freq = np.unique(array)\n",
        "print(freq)\n",
        "count = np.bincount(array)\n",
        "print(count)"
      ]
    },
    {
      "cell_type": "markdown",
      "id": "dba015f1",
      "metadata": {
        "id": "dba015f1"
      },
      "source": [
        "## 11-Show how is arr[:,0] different from arr[:,[0]]"
      ]
    },
    {
      "cell_type": "code",
      "execution_count": null,
      "id": "6fe4ab56",
      "metadata": {
        "id": "6fe4ab56"
      },
      "outputs": [],
      "source": [
        "first one gives a 2d array, while the last one gives 3d array"
      ]
    },
    {
      "cell_type": "code",
      "execution_count": null,
      "id": "f4694086",
      "metadata": {
        "id": "f4694086"
      },
      "outputs": [],
      "source": []
    },
    {
      "cell_type": "markdown",
      "id": "6fe6ca1b",
      "metadata": {
        "id": "6fe6ca1b"
      },
      "source": [
        "### 12-How do you multiply these 2 NumPy array matrices [[15,16,17],[18,19,20],[21,22,23]]  &  [[20,21,22],[23,24,25],[26,27,28]] ?"
      ]
    },
    {
      "cell_type": "code",
      "execution_count": 46,
      "id": "7500d7e4",
      "metadata": {
        "id": "7500d7e4",
        "outputId": "74e12a2b-7113-4f17-d71d-2d5adfd1a775",
        "colab": {
          "base_uri": "https://localhost:8080/"
        }
      },
      "outputs": [
        {
          "output_type": "execute_result",
          "data": {
            "text/plain": [
              "array([[300, 336, 374],\n",
              "       [414, 456, 500],\n",
              "       [546, 594, 644]])"
            ]
          },
          "metadata": {},
          "execution_count": 46
        }
      ],
      "source": [
        "import numpy as np\n",
        "array1 = np.array([[15,16,17],[18,19,20],[21,22,23]])\n",
        "array2 = np.array([[20,21,22],[23,24 ,25],[26,27,28]])\n",
        "array1 * array2"
      ]
    },
    {
      "cell_type": "code",
      "execution_count": null,
      "id": "f9f6a9c3",
      "metadata": {
        "id": "f9f6a9c3"
      },
      "outputs": [],
      "source": []
    },
    {
      "cell_type": "code",
      "execution_count": null,
      "id": "29c487c4",
      "metadata": {
        "id": "29c487c4"
      },
      "outputs": [],
      "source": []
    },
    {
      "cell_type": "markdown",
      "id": "87e4e530",
      "metadata": {
        "id": "87e4e530"
      },
      "source": [
        "### 13 -Combine these 2 NumPy arrays [1,2,3] & [4,5,6] using vstack()     and hstack()"
      ]
    },
    {
      "cell_type": "code",
      "execution_count": 62,
      "id": "8556f467",
      "metadata": {
        "id": "8556f467",
        "outputId": "bd113ebb-b8b5-4618-fefa-2b7f1745880f",
        "colab": {
          "base_uri": "https://localhost:8080/"
        }
      },
      "outputs": [
        {
          "output_type": "stream",
          "name": "stdout",
          "text": [
            "[[1 2 3]\n",
            " [4 5 6]]\n",
            "[1 2 3 4 5 6]\n"
          ]
        }
      ],
      "source": [
        "import numpy as np\n",
        "\n",
        "array1 = np.array([1,2,3] )\n",
        "array2 = np.array([4,5,6] )\n",
        "vstack = np.vstack((array1 , array2))\n",
        "print(vstack)\n",
        "hstack = np.hstack((array1 , array2))\n",
        "print(hstack)"
      ]
    },
    {
      "cell_type": "markdown",
      "id": "6d99f57e",
      "metadata": {
        "id": "6d99f57e"
      },
      "source": [
        "# <a id='oop'></a>\n",
        "<h1><font color='red'> oop"
      ]
    },
    {
      "cell_type": "markdown",
      "id": "d09ebaa6",
      "metadata": {
        "id": "d09ebaa6"
      },
      "source": [
        "# 1 - a \"class\" is ... </font>\n",
        "\n",
        "<br> </br>\n",
        "#### A) an instance variable\n",
        "#### B) a code template for creating object\n",
        "#### C) a function in python\n",
        "#### D) a synonym for methods"
      ]
    },
    {
      "cell_type": "code",
      "execution_count": null,
      "id": "dd8d79b8",
      "metadata": {
        "id": "dd8d79b8"
      },
      "outputs": [],
      "source": [
        "A = False #@param {type:\"boolean\"}\n",
        "B = True #@param {type:\"boolean\"}\n",
        "C = False #@param {type:\"boolean\"}\n",
        "D = False #@param {type:\"boolean\"}\n"
      ]
    },
    {
      "cell_type": "markdown",
      "id": "94da8748",
      "metadata": {
        "id": "94da8748"
      },
      "source": [
        "# 2- What is a \"docstring\" ?</font>\n",
        "<br> </br>\n",
        "#### A) it is a sting literal specified in source code that is used to explain or document a specific segment of code\n",
        "#### B) it is a class method that allows working with string documents\n",
        "#### C) it is an alternative name for instance vaeiables of type string apprearing in classes\n",
        "#### D) it is a synonym for code comments"
      ]
    },
    {
      "cell_type": "code",
      "execution_count": null,
      "id": "b3e6804e",
      "metadata": {
        "id": "b3e6804e"
      },
      "outputs": [],
      "source": [
        "A = True #@param {type:\"boolean\"}\n",
        "B = False #@param {type:\"boolean\"}\n",
        "C = False #@param {type:\"boolean\"}\n",
        "D = False #@param {type:\"boolean\"}\n"
      ]
    },
    {
      "cell_type": "markdown",
      "id": "0d792965",
      "metadata": {
        "id": "0d792965"
      },
      "source": [
        "## 3- Create a Bus class that inherits from the Vehicle class. Give the capacity argument of Bus.seating_capacity() a default value of 50.\n",
        "- Use the following code for your parent Vehicle class:.\n",
        ">   class Vehicle:\n",
        "    def __init__(self, name, max_speed, mileage):\n",
        "        self.name = name\n",
        "        self.max_speed = max_speed\n",
        "        self.mileage = mileage\n",
        "    def seating_capacity(self, capacity):\n",
        "        return f\"The seating capacity of a {self.name} is {capacity} passengers\n"
      ]
    },
    {
      "cell_type": "code",
      "execution_count": 69,
      "id": "ca64451c",
      "metadata": {
        "id": "ca64451c",
        "outputId": "ce4360d1-8a70-4504-8ace-aa0407510b71",
        "colab": {
          "base_uri": "https://localhost:8080/"
        }
      },
      "outputs": [
        {
          "output_type": "stream",
          "name": "stdout",
          "text": [
            "The seating capacity of a bigBus is 50 passengers\n"
          ]
        }
      ],
      "source": [
        "class Vehicle:\n",
        "  def __init__(self, name,max_speed,mileage):\n",
        "      self.name = name\n",
        "      self.max_speed = max_speed\n",
        "      self.mileage = mileage\n",
        "  def seating_capacity(self, capacity):\n",
        "    return f\"The seating capacity of a {self.name} is {capacity} passengers\"\n",
        "\n",
        "class Bus(Vehicle):\n",
        "  def __init__(self, name,max_speed,mileage):\n",
        "    Vehicle.__init__(self, name, max_speed, mileage)\n",
        "\n",
        "bus = Bus('bigBus', 60 , 1800)\n",
        "print(bus.seating_capacity(50))"
      ]
    },
    {
      "cell_type": "code",
      "execution_count": null,
      "id": "238fb7cc",
      "metadata": {
        "id": "238fb7cc"
      },
      "outputs": [],
      "source": []
    },
    {
      "cell_type": "markdown",
      "id": "DKUWVq49LxBa",
      "metadata": {
        "id": "DKUWVq49LxBa"
      },
      "source": [
        "# <a id='ProblemSolving'></a>\n",
        "<h1><font color='red'>Problem Solving\n"
      ]
    },
    {
      "cell_type": "markdown",
      "id": "MwvD232bMq32",
      "metadata": {
        "id": "MwvD232bMq32"
      },
      "source": [
        "<a href='https://codeforces.com/problemset/problem/339/A'> **problem 1**"
      ]
    },
    {
      "cell_type": "code",
      "execution_count": 85,
      "id": "I5krJ01gLxBh",
      "metadata": {
        "id": "I5krJ01gLxBh",
        "outputId": "796f608a-9181-46c7-f59f-438dd96d7693",
        "colab": {
          "base_uri": "https://localhost:8080/"
        }
      },
      "outputs": [
        {
          "output_type": "stream",
          "name": "stdout",
          "text": [
            "enter: 3+1+3+2+1+3\n",
            "1+1+2+3+3+3\n"
          ]
        }
      ],
      "source": [
        "# Problem_1 Link:\n",
        "\n",
        "\n",
        "question = input('enter: ')\n",
        "list = question.split(\"+\")\n",
        "array = np.array(list)\n",
        "new_array = np.sort(array)\n",
        "new = '+'.join(new_array)\n",
        "\n",
        "print(new)"
      ]
    },
    {
      "cell_type": "markdown",
      "id": "DatcMQ4EM3Hb",
      "metadata": {
        "id": "DatcMQ4EM3Hb"
      },
      "source": [
        "<a href='https://codeforces.com/problemset/problem/118/A'> **problem 2**"
      ]
    },
    {
      "cell_type": "code",
      "execution_count": 70,
      "id": "bR2YKH5fLxBh",
      "metadata": {
        "id": "bR2YKH5fLxBh",
        "outputId": "d1664643-dcbd-42ae-cd34-4f36edc43ca5",
        "colab": {
          "base_uri": "https://localhost:8080/"
        }
      },
      "outputs": [
        {
          "output_type": "stream",
          "name": "stdout",
          "text": [
            "enter a word of length 1 to 100: ABcdfGH\n",
            ".b.c.d.f.g.h\n"
          ]
        }
      ],
      "source": [
        "# Problem_2 Link:\n",
        "string = input(\"enter a word of length 1 to 100: \")\n",
        "string = string.lower()\n",
        "vowels = \"aeuio\"\n",
        "for char in string:\n",
        "    if char in vowels:\n",
        "        string = string.replace(char , \"\")\n",
        "\n",
        "dot = \".\"\n",
        "string_new = \"\"\n",
        "for char in string:\n",
        "    string_new += dot + char\n",
        "n = len(string)\n",
        "if 1<=n<=100:\n",
        "    print(string_new)\n",
        "\n",
        "elif n <= 1 :\n",
        "    print(\"try typing more than 1 letter\")\n",
        "\n",
        "elif n >= 100 :\n",
        "    print(\"try typing less than 100 letters\")\n",
        "\n"
      ]
    }
  ],
  "metadata": {
    "colab": {
      "provenance": []
    },
    "kernelspec": {
      "display_name": "Python 3",
      "language": "python",
      "name": "python3"
    },
    "language_info": {
      "codemirror_mode": {
        "name": "ipython",
        "version": 3
      },
      "file_extension": ".py",
      "mimetype": "text/x-python",
      "name": "python",
      "nbconvert_exporter": "python",
      "pygments_lexer": "ipython3",
      "version": "3.8.8"
    }
  },
  "nbformat": 4,
  "nbformat_minor": 5
}